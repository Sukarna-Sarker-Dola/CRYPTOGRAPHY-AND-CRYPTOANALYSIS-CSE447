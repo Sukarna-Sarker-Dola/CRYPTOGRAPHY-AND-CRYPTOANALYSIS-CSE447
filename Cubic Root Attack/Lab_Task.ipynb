{
  "nbformat": 4,
  "nbformat_minor": 0,
  "metadata": {
    "colab": {
      "provenance": []
    },
    "kernelspec": {
      "name": "python3",
      "display_name": "Python 3"
    },
    "language_info": {
      "name": "python"
    }
  },
  "cells": [
    {
      "cell_type": "code",
      "source": [
        "#mod function\n",
        "def compute_mod(b1, N1):\n",
        "    a = b1  # choto ta \n",
        "    b = N1  # boro ta\n",
        "\n",
        "    # initialzing\n",
        "    r1 = b\n",
        "    r2 = a\n",
        "    t1 = 0\n",
        "    t2 = 1\n",
        "    g = int(r1 / r2)\n",
        "    r = r1 % r2\n",
        "    t = t1 - g * t2\n",
        "    #print(g, r1, r2, r, t1, t2, t)\n",
        "\n",
        "    val = True\n",
        "    while (val):\n",
        "        if (r == 0):\n",
        "            val = False\n",
        "        else:\n",
        "            r1 = r2\n",
        "            r2 = r\n",
        "            t1 = t2\n",
        "            t2 = t\n",
        "            # print(t2)\n",
        "            g = int(r1 / r2)\n",
        "            r = r1 % r2\n",
        "            t = t1 - g * t2\n",
        "            #print(g, r1, r2, r, t1, t2, t)\n",
        "    if (t2 < 0):\n",
        "      t2 = t2 + b\n",
        "    return t2"
      ],
      "metadata": {
        "id": "ubO0El6z7bH9"
      },
      "execution_count": 2,
      "outputs": []
    },
    {
      "cell_type": "code",
      "source": [
        "def generate_mod_structure(n_prime, n_doublePrime, n_triplePrime):\n",
        "  a1 = n_prime * n_doublePrime\n",
        "  b1 = a1\n",
        "  if (a1 > n_triplePrime):\n",
        "    b1 =  ( a1 % n_triplePrime ) \n",
        "  #print(\"b1 = \", b1)\n",
        "  return b1"
      ],
      "metadata": {
        "id": "0o9FZubX7nif"
      },
      "execution_count": 3,
      "outputs": []
    },
    {
      "cell_type": "code",
      "source": [
        "# p and q are primes and given\n",
        "e = 3\n",
        "p1 = int(input(\"please enter p1 \"))\n",
        "p2 = int(input(\"please enter p2 \"))\n",
        "p3 = int(input(\"please enter p3 \"))\n",
        "q1 = int(input(\"please enter q1 \"))\n",
        "q2 = int(input(\"please enter q2 \"))\n",
        "q3 = int(input(\"please enter q3 \"))\n",
        "C1 = int(input(\"please enter C1 \"))\n",
        "C2 = int(input(\"please enter C2 \"))\n",
        "C3 = int(input(\"please enter C3 \"))\n",
        "\n",
        "#calculating N\n",
        "N1 = p1 * q1\n",
        "N2 = p2 * q2\n",
        "N3 = p3 * q3\n",
        "X = ( (C1 * (N2*N3) * compute_mod( generate_mod_structure(N2,N3,N1), N1) ) +\n",
        "      (C2 * (N1*N3) * compute_mod( generate_mod_structure(N1,N3,N2), N2) ) +\n",
        "      (C3 * (N1*N2) * compute_mod( generate_mod_structure(N1,N2,N3), N3) ) ) % (N1 * N2 * N3)\n",
        "M_PRIME = (X)**(1/3)\n",
        "\n",
        "print (round(M_PRIME))"
      ],
      "metadata": {
        "colab": {
          "base_uri": "https://localhost:8080/"
        },
        "id": "bpcSXHhI3B7G",
        "outputId": "3d86e3fa-12f3-490d-b765-737b7bc705c0"
      },
      "execution_count": null,
      "outputs": [
        {
          "name": "stdout",
          "output_type": "stream",
          "text": [
            "please enter q2 6\n"
          ]
        }
      ]
    }
  ]
}